{
 "cells": [
  {
   "cell_type": "code",
   "execution_count": 1,
   "metadata": {},
   "outputs": [],
   "source": [
    "from model.eval.evaluation import get_utility_metrics,stat_sim, privacy_metrics\n",
    "import numpy as np\n",
    "import pandas as pd\n",
    "import glob"
   ]
  },
  {
   "cell_type": "code",
   "execution_count": 2,
   "metadata": {},
   "outputs": [],
   "source": [
    "dataset = \"Loan\"\n",
    "real_path = \"Real_Datasets/Loan.csv\"\n",
    "fake_file_root = \"Fake_Datasets\""
   ]
  },
  {
   "cell_type": "code",
   "execution_count": 3,
   "metadata": {},
   "outputs": [],
   "source": [
    "fake_paths = glob.glob(fake_file_root+\"/\"+dataset+\"/\"+\"*\")"
   ]
  },
  {
   "cell_type": "code",
   "execution_count": 4,
   "metadata": {},
   "outputs": [
    {
     "data": {
      "text/html": [
       "<div>\n",
       "<style scoped>\n",
       "    .dataframe tbody tr th:only-of-type {\n",
       "        vertical-align: middle;\n",
       "    }\n",
       "\n",
       "    .dataframe tbody tr th {\n",
       "        vertical-align: top;\n",
       "    }\n",
       "\n",
       "    .dataframe thead th {\n",
       "        text-align: right;\n",
       "    }\n",
       "</style>\n",
       "<table border=\"1\" class=\"dataframe\">\n",
       "  <thead>\n",
       "    <tr style=\"text-align: right;\">\n",
       "      <th></th>\n",
       "      <th>Acc</th>\n",
       "      <th>AUC</th>\n",
       "      <th>F1_Score</th>\n",
       "    </tr>\n",
       "  </thead>\n",
       "  <tbody>\n",
       "    <tr>\n",
       "      <th>lr</th>\n",
       "      <td>3.6</td>\n",
       "      <td>0.019623</td>\n",
       "      <td>0.155718</td>\n",
       "    </tr>\n",
       "    <tr>\n",
       "      <th>dt</th>\n",
       "      <td>13.4</td>\n",
       "      <td>0.316187</td>\n",
       "      <td>0.323595</td>\n",
       "    </tr>\n",
       "    <tr>\n",
       "      <th>rf</th>\n",
       "      <td>8.3</td>\n",
       "      <td>0.095058</td>\n",
       "      <td>0.369682</td>\n",
       "    </tr>\n",
       "    <tr>\n",
       "      <th>mlp</th>\n",
       "      <td>7.0</td>\n",
       "      <td>0.051922</td>\n",
       "      <td>0.313433</td>\n",
       "    </tr>\n",
       "    <tr>\n",
       "      <th>svm</th>\n",
       "      <td>7.2</td>\n",
       "      <td>0.213323</td>\n",
       "      <td>0.448878</td>\n",
       "    </tr>\n",
       "  </tbody>\n",
       "</table>\n",
       "</div>"
      ],
      "text/plain": [
       "      Acc       AUC  F1_Score\n",
       "lr    3.6  0.019623  0.155718\n",
       "dt   13.4  0.316187  0.323595\n",
       "rf    8.3  0.095058  0.369682\n",
       "mlp   7.0  0.051922  0.313433\n",
       "svm   7.2  0.213323  0.448878"
      ]
     },
     "execution_count": 4,
     "metadata": {},
     "output_type": "execute_result"
    }
   ],
   "source": [
    "model_dict = {\"Classification\":[\"lr\",\"dt\",\"rf\",\"mlp\",\"svm\"]}\n",
    "result_mat = get_utility_metrics(real_path,fake_paths,\"MinMax\",model_dict, test_ratio = 0.20)\n",
    "\n",
    "result_df  = pd.DataFrame(result_mat,columns=[\"Acc\",\"AUC\",\"F1_Score\"])\n",
    "result_df.index = list(model_dict.values())[0]\n",
    "result_df"
   ]
  },
  {
   "cell_type": "code",
   "execution_count": 5,
   "metadata": {},
   "outputs": [
    {
     "name": "stdout",
     "output_type": "stream",
     "text": [
      "column:  Age WD:  0.0325897727272727\n",
      "column:  Experience WD:  0.03163858695652174\n",
      "column:  Income WD:  0.020390625000000002\n",
      "column:  ZIP Code JSD:  0.37119521183077325\n",
      "column:  Family JSD:  0.08207254874947868\n",
      "column:  CCAvg WD:  0.00789855284491357\n",
      "column:  Education JSD:  0.14541374283122258\n",
      "column:  Mortgage WD:  0.02832661417322835\n",
      "column:  Securities Account JSD:  0.03379604249071206\n",
      "column:  CD Account JSD:  0.07148414483823269\n",
      "column:  Online JSD:  0.06450424392087323\n",
      "column:  CreditCard JSD:  0.10456672060181359\n",
      "column:  PersonalLoan JSD:  0.015602532710124394\n"
     ]
    },
    {
     "data": {
      "text/html": [
       "<div>\n",
       "<style scoped>\n",
       "    .dataframe tbody tr th:only-of-type {\n",
       "        vertical-align: middle;\n",
       "    }\n",
       "\n",
       "    .dataframe tbody tr th {\n",
       "        vertical-align: top;\n",
       "    }\n",
       "\n",
       "    .dataframe thead th {\n",
       "        text-align: right;\n",
       "    }\n",
       "</style>\n",
       "<table border=\"1\" class=\"dataframe\">\n",
       "  <thead>\n",
       "    <tr style=\"text-align: right;\">\n",
       "      <th></th>\n",
       "      <th>Average WD (Continuous Columns</th>\n",
       "      <th>Average JSD (Categorical Columns)</th>\n",
       "      <th>Correlation Distance</th>\n",
       "    </tr>\n",
       "  </thead>\n",
       "  <tbody>\n",
       "    <tr>\n",
       "      <th>0</th>\n",
       "      <td>0.024169</td>\n",
       "      <td>0.111079</td>\n",
       "      <td>1.682357</td>\n",
       "    </tr>\n",
       "  </tbody>\n",
       "</table>\n",
       "</div>"
      ],
      "text/plain": [
       "   Average WD (Continuous Columns  Average JSD (Categorical Columns)  \\\n",
       "0                        0.024169                           0.111079   \n",
       "\n",
       "   Correlation Distance  \n",
       "0              1.682357  "
      ]
     },
     "execution_count": 5,
     "metadata": {},
     "output_type": "execute_result"
    }
   ],
   "source": [
    "# D server g server 5clients\n",
    "loan_categorical = [\"ZIP Code\",\"Family\",\"Education\",\"PersonalLoan\",\"Securities Account\",\"CD Account\",\"Online\",\"CreditCard\"]\n",
    "stat_res_avg = []\n",
    "for fake_path in fake_paths:\n",
    "    stat_res = stat_sim(real_path,fake_path,loan_categorical)\n",
    "    stat_res_avg.append(stat_res)\n",
    "\n",
    "stat_columns = [\"Average WD (Continuous Columns\",\"Average JSD (Categorical Columns)\",\"Correlation Distance\"]\n",
    "stat_results = pd.DataFrame(np.array(stat_res_avg).mean(axis=0).reshape(1,3),columns=stat_columns)\n",
    "stat_results"
   ]
  }
 ],
 "metadata": {
  "interpreter": {
   "hash": "5bbd4e8a0020626d1955d6e7d647b883363040a056d10513dec12a340be08610"
  },
  "kernelspec": {
   "display_name": "Python 3 (ipykernel)",
   "language": "python",
   "name": "python3"
  },
  "language_info": {
   "codemirror_mode": {
    "name": "ipython",
    "version": 3
   },
   "file_extension": ".py",
   "mimetype": "text/x-python",
   "name": "python",
   "nbconvert_exporter": "python",
   "pygments_lexer": "ipython3",
   "version": "3.8.10"
  }
 },
 "nbformat": 4,
 "nbformat_minor": 2
}
